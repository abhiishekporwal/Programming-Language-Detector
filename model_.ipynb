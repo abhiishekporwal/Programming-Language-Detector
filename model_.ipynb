{
  "nbformat": 4,
  "nbformat_minor": 0,
  "metadata": {
    "kernelspec": {
      "display_name": "Python 3",
      "language": "python",
      "name": "python3"
    },
    "language_info": {
      "codemirror_mode": {
        "name": "ipython",
        "version": 3
      },
      "file_extension": ".py",
      "mimetype": "text/x-python",
      "name": "python",
      "nbconvert_exporter": "python",
      "pygments_lexer": "ipython3",
      "version": "3.7.7"
    },
    "colab": {
      "name": "model_.ipynb",
      "provenance": [],
      "collapsed_sections": [],
      "toc_visible": true
    }
  },
  "cells": [
    {
      "cell_type": "markdown",
      "metadata": {
        "id": "kRz3B0uKa254"
      },
      "source": [
        "###***Dependencies***\n"
      ]
    },
    {
      "cell_type": "code",
      "metadata": {
        "id": "2_GDIkiobMaK"
      },
      "source": [
        "import tensorflow as tf\n",
        "from statistics import mean, stdev\n",
        "from operator import itemgetter\n",
        "import json"
      ],
      "execution_count": null,
      "outputs": []
    },
    {
      "cell_type": "markdown",
      "metadata": {
        "id": "uK1zZ8PNjMxd"
      },
      "source": [
        "###***Dataset contains code snippets of these 30 progamming languages for Training***\n",
        "\n"
      ]
    },
    {
      "cell_type": "code",
      "metadata": {
        "colab": {
          "base_uri": "https://localhost:8080/"
        },
        "id": "3WQ7AjgwbkvZ",
        "outputId": "250bed76-49ff-4f52-e9d2-cd369d9166ac"
      },
      "source": [
        "with open('languages.json') as f:\n",
        "  language_info = json.load(f)\n",
        "\n",
        "language_info"
      ],
      "execution_count": null,
      "outputs": [
        {
          "output_type": "execute_result",
          "data": {
            "text/plain": [
              "{'Batchfile': ['bat', 'cmd', 'btm'],\n",
              " 'C': ['c'],\n",
              " 'C#': ['cs'],\n",
              " 'C++': ['cpp', 'cc'],\n",
              " 'CSS': ['css'],\n",
              " 'CoffeeScript': ['coffee', 'litcoffee'],\n",
              " 'Erlang': ['erl', 'hrl'],\n",
              " 'Go': ['go'],\n",
              " 'HTML': ['html'],\n",
              " 'Haskell': ['hs', 'lhs'],\n",
              " 'Java': ['java'],\n",
              " 'JavaScript': ['js', 'es6'],\n",
              " 'Jupyter Notebook': ['ipynb'],\n",
              " 'Lua': ['lua'],\n",
              " 'Markdown': ['md'],\n",
              " 'Matlab': ['matlab', 'm'],\n",
              " 'Objective-C': ['mm', 'm'],\n",
              " 'PHP': ['php'],\n",
              " 'Perl': ['pl', 'pm'],\n",
              " 'PowerShell': ['ps1'],\n",
              " 'Python': ['py'],\n",
              " 'R': ['r', 'rdata', 'rds', 'rda'],\n",
              " 'Ruby': ['rb'],\n",
              " 'Rust': ['rs'],\n",
              " 'SQL': ['sql'],\n",
              " 'Scala': ['scala'],\n",
              " 'Shell': ['sh'],\n",
              " 'Swift': ['swift'],\n",
              " 'TeX': ['tex'],\n",
              " 'TypeScript': ['ts', 'tsx']}"
            ]
          },
          "metadata": {
            "tags": []
          },
          "execution_count": 3
        }
      ]
    },
    {
      "cell_type": "markdown",
      "metadata": {
        "id": "FUqRkBCIB2wi"
      },
      "source": [
        "###***Mapping***\n"
      ]
    },
    {
      "cell_type": "code",
      "metadata": {
        "id": "yEgJFM9oVW_U"
      },
      "source": [
        "language_map = { name: exts[0] for name, exts in language_info.items() }\n",
        "\n",
        "extension_map = { ext: name for name, ext in language_map.items() }"
      ],
      "execution_count": null,
      "outputs": []
    },
    {
      "cell_type": "markdown",
      "metadata": {
        "id": "v3gj48GXhTiS"
      },
      "source": [
        "###***Load Model***"
      ]
    },
    {
      "cell_type": "code",
      "metadata": {
        "id": "0q35mjmjN0RK"
      },
      "source": [
        "saved_model =tf.saved_model.load(\"model\")"
      ],
      "execution_count": null,
      "outputs": []
    },
    {
      "cell_type": "markdown",
      "metadata": {
        "id": "HIZsYAnghpb8"
      },
      "source": [
        "###***Prediction***\n"
      ]
    },
    {
      "cell_type": "code",
      "metadata": {
        "id": "-S4Ci2dsN0RK"
      },
      "source": [
        "def language_used(text):\n",
        "  if not text.strip():\n",
        "    return 'Please input code snippet.'\n",
        "\n",
        "  content_tensor = tf.constant([text])\n",
        "  predicted = saved_model.signatures['serving_default'](content_tensor)\n",
        "\n",
        "  numpy_floats = predicted['scores'][0].numpy()\n",
        "  extensions = predicted['classes'][0].numpy()\n",
        "\n",
        "  probability_values = (float(value) for value in numpy_floats)  \n",
        "\n",
        "  languages = ( extension_map[ext.decode()] for ext in extensions)\n",
        "  unsorted_scores = zip(languages, probability_values)\n",
        "  language_probabilities = sorted(unsorted_scores, key=itemgetter(1), reverse=True)\n",
        "  probabilities = [value for _, value in language_probabilities]\n",
        "\n",
        "  if not _is_reliable(probabilities):\n",
        "    print('No any programming language detected')\n",
        "    return 'More Training to be done on large dataset.'\n",
        "\n",
        "  language_name, _ = language_probabilities[0]\n",
        "  return language_name"
      ],
      "execution_count": null,
      "outputs": []
    },
    {
      "cell_type": "code",
      "metadata": {
        "id": "O_XdZKsKgZ63"
      },
      "source": [
        "def _is_reliable(probabilities) -> bool:\n",
        "        \"\"\"Arbitrary rule to determine if the prediction is reliable:\n",
        "        The predicted language probability must be higher than\n",
        "        2 times standard deviations from the mean.\n",
        "        \"\"\"\n",
        "        threshold = mean(probabilities) + 2*stdev(probabilities)\n",
        "        predicted_language_probability = max(probabilities)\n",
        "        return predicted_language_probability > threshold"
      ],
      "execution_count": null,
      "outputs": []
    },
    {
      "cell_type": "markdown",
      "metadata": {
        "id": "KJt9eY7MgxU3"
      },
      "source": [
        "##***Results***\n",
        "\n",
        "\n",
        "\n"
      ]
    },
    {
      "cell_type": "code",
      "metadata": {
        "id": "-A3Ki2DDgwKh",
        "colab": {
          "base_uri": "https://localhost:8080/",
          "height": 35
        },
        "outputId": "65c97d0a-2830-4563-a1fc-39feb83a349e"
      },
      "source": [
        "text1 = \"\"\" \n",
        "package main\n",
        "import \"fmt\"\n",
        "\n",
        "func main() {\n",
        "    fmt.Println(\"My mascot is a gopher and Google loves me. Who am I?\")\n",
        "}\n",
        "\"\"\"\n",
        "\n",
        "language_used(text1)"
      ],
      "execution_count": null,
      "outputs": [
        {
          "output_type": "execute_result",
          "data": {
            "application/vnd.google.colaboratory.intrinsic+json": {
              "type": "string"
            },
            "text/plain": [
              "'Go'"
            ]
          },
          "metadata": {
            "tags": []
          },
          "execution_count": 8
        }
      ]
    },
    {
      "cell_type": "code",
      "metadata": {
        "id": "CGYiBcSte5my",
        "colab": {
          "base_uri": "https://localhost:8080/",
          "height": 35
        },
        "outputId": "b001ee91-a69e-4023-9242-6a6ad9fbda3d"
      },
      "source": [
        "text2 = \"\"\"\n",
        "\n",
        "# Store input numbers\n",
        "\n",
        "num1 = input('Enter first number: ')\n",
        "\n",
        "num2 = input('Enter second number: ')\n",
        "\n",
        " \n",
        "\n",
        "# Add two numbers\n",
        "\n",
        "sum = float(num1) + float(num2)\n",
        "\n",
        " \n",
        "\n",
        "# Display the sum\n",
        "\n",
        "print('The sum of {0} and {1} is {2}'.format(num1, num2, sum))\n",
        "\"\"\"\n",
        "\n",
        "language_used(text2)"
      ],
      "execution_count": null,
      "outputs": [
        {
          "output_type": "execute_result",
          "data": {
            "application/vnd.google.colaboratory.intrinsic+json": {
              "type": "string"
            },
            "text/plain": [
              "'Python'"
            ]
          },
          "metadata": {
            "tags": []
          },
          "execution_count": 9
        }
      ]
    },
    {
      "cell_type": "code",
      "metadata": {
        "id": "pZ5NjPBbmFHN",
        "colab": {
          "base_uri": "https://localhost:8080/",
          "height": 35
        },
        "outputId": "2b802c7b-f915-4255-c7de-fa8e1dffcc5a"
      },
      "source": [
        "text3 = \"\"\"\n",
        "// This ia a sample getter function\n",
        "\n",
        "private int LOC = 0;\n",
        "\n",
        " \n",
        "public int getLOC() {\n",
        "\n",
        "                                return LOC;\n",
        "\n",
        "                }\n",
        "\n",
        "public void setLOC(int lOC) {\n",
        "\n",
        "                                LOC = lOC;\n",
        "\n",
        "                }\n",
        "\n",
        " \"\"\"   \n",
        " \n",
        "language_used(text3)"
      ],
      "execution_count": null,
      "outputs": [
        {
          "output_type": "execute_result",
          "data": {
            "application/vnd.google.colaboratory.intrinsic+json": {
              "type": "string"
            },
            "text/plain": [
              "'Java'"
            ]
          },
          "metadata": {
            "tags": []
          },
          "execution_count": 27
        }
      ]
    },
    {
      "cell_type": "code",
      "metadata": {
        "colab": {
          "base_uri": "https://localhost:8080/",
          "height": 35
        },
        "id": "rPt0Y3aaGVIk",
        "outputId": "5eae312a-145a-41b2-8e8f-fd0dfc4222a5"
      },
      "source": [
        "text4 = \"\"\"\n",
        "\n",
        "/** Turn command line arguments to uppercase */\n",
        "object Main {\n",
        "  def main(args: Array[String]) {\n",
        "    val res = for (a <- args) yield a.toUpperCase\n",
        "    println(\"Arguments: \" + res.toString)\n",
        "  }\n",
        "}\n",
        "\n",
        "\"\"\"\n",
        "\n",
        "language_used(text4)"
      ],
      "execution_count": null,
      "outputs": [
        {
          "output_type": "execute_result",
          "data": {
            "application/vnd.google.colaboratory.intrinsic+json": {
              "type": "string"
            },
            "text/plain": [
              "'Scala'"
            ]
          },
          "metadata": {
            "tags": []
          },
          "execution_count": 29
        }
      ]
    },
    {
      "cell_type": "code",
      "metadata": {
        "colab": {
          "base_uri": "https://localhost:8080/",
          "height": 35
        },
        "id": "A1PmlitmHFka",
        "outputId": "bd87d2cb-ddae-41b1-b788-11f0549db5fd"
      },
      "source": [
        "text = \"\"\" \n",
        "\n",
        "/bin/which \n",
        "\n",
        "\"\"\"\n",
        "language_used(text)"
      ],
      "execution_count": null,
      "outputs": [
        {
          "output_type": "execute_result",
          "data": {
            "application/vnd.google.colaboratory.intrinsic+json": {
              "type": "string"
            },
            "text/plain": [
              "'Shell'"
            ]
          },
          "metadata": {
            "tags": []
          },
          "execution_count": 37
        }
      ]
    },
    {
      "cell_type": "code",
      "metadata": {
        "colab": {
          "base_uri": "https://localhost:8080/",
          "height": 35
        },
        "id": "x-dRwdL73esW",
        "outputId": "1674a332-ad63-4972-c99d-d0730501b298"
      },
      "source": [
        "text5 = \"\"\"\n",
        "interface User {\n",
        "  name: string;\n",
        "  id: number;\n",
        "}\n",
        "\n",
        "class UserAccount {\n",
        "  name: string;\n",
        "  id: number;\n",
        "\n",
        "  constructor(name: string, id: number) {\n",
        "    this.name = name;\n",
        "    this.id = id;\n",
        "  }\n",
        "}\n",
        "\n",
        "const user: User = new UserAccount(\"Murphy\", 1);\n",
        "\"\"\"\n",
        "\n",
        "language_used(text5)"
      ],
      "execution_count": null,
      "outputs": [
        {
          "output_type": "execute_result",
          "data": {
            "application/vnd.google.colaboratory.intrinsic+json": {
              "type": "string"
            },
            "text/plain": [
              "'TypeScript'"
            ]
          },
          "metadata": {
            "tags": []
          },
          "execution_count": 38
        }
      ]
    },
    {
      "cell_type": "code",
      "metadata": {
        "id": "2xqT1XBUKdyV"
      },
      "source": [
        ""
      ],
      "execution_count": null,
      "outputs": []
    }
  ]
}