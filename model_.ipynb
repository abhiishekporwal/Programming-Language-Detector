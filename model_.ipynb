{
  "nbformat": 4,
  "nbformat_minor": 0,
  "metadata": {
    "kernelspec": {
      "display_name": "Python 3",
      "language": "python",
      "name": "python3"
    },
    "language_info": {
      "codemirror_mode": {
        "name": "ipython",
        "version": 3
      },
      "file_extension": ".py",
      "mimetype": "text/x-python",
      "name": "python",
      "nbconvert_exporter": "python",
      "pygments_lexer": "ipython3",
      "version": "3.7.7"
    },
    "colab": {
      "name": "model_.ipynb",
      "provenance": [],
      "collapsed_sections": [],
      "toc_visible": true
    }
  },
  "cells": [
    {
      "cell_type": "code",
      "metadata": {
        "colab": {
          "base_uri": "https://localhost:8080/"
        },
        "id": "OJmc2BJYZGN6",
        "outputId": "e10d3285-56d3-4f29-e698-e1b6932921ea"
      },
      "source": [
        "!git clone \"https://github.com/abhiishekporwal/Programming-Language-Detector.git\""
      ],
      "execution_count": null,
      "outputs": [
        {
          "output_type": "stream",
          "text": [
            "Cloning into 'Programming-Language-Detector'...\n",
            "remote: Enumerating objects: 16, done.\u001b[K\n",
            "remote: Counting objects:   6% (1/16)\u001b[K\rremote: Counting objects:  12% (2/16)\u001b[K\rremote: Counting objects:  18% (3/16)\u001b[K\rremote: Counting objects:  25% (4/16)\u001b[K\rremote: Counting objects:  31% (5/16)\u001b[K\rremote: Counting objects:  37% (6/16)\u001b[K\rremote: Counting objects:  43% (7/16)\u001b[K\rremote: Counting objects:  50% (8/16)\u001b[K\rremote: Counting objects:  56% (9/16)\u001b[K\rremote: Counting objects:  62% (10/16)\u001b[K\rremote: Counting objects:  68% (11/16)\u001b[K\rremote: Counting objects:  75% (12/16)\u001b[K\rremote: Counting objects:  81% (13/16)\u001b[K\rremote: Counting objects:  87% (14/16)\u001b[K\rremote: Counting objects:  93% (15/16)\u001b[K\rremote: Counting objects: 100% (16/16)\u001b[K\rremote: Counting objects: 100% (16/16), done.\u001b[K\n",
            "remote: Compressing objects: 100% (15/15), done.\u001b[K\n",
            "remote: Total 16 (delta 2), reused 11 (delta 0), pack-reused 0\u001b[K\n",
            "Unpacking objects: 100% (16/16), done.\n"
          ],
          "name": "stdout"
        }
      ]
    },
    {
      "cell_type": "markdown",
      "metadata": {
        "id": "kRz3B0uKa254"
      },
      "source": [
        "###***Dependencies***\n"
      ]
    },
    {
      "cell_type": "code",
      "metadata": {
        "id": "2_GDIkiobMaK"
      },
      "source": [
        "import tensorflow as tf\n",
        "from statistics import mean, stdev\n",
        "from operator import itemgetter\n",
        "import json"
      ],
      "execution_count": null,
      "outputs": []
    },
    {
      "cell_type": "markdown",
      "metadata": {
        "id": "uK1zZ8PNjMxd"
      },
      "source": [
        "###***Dataset contains code snippets of these 30 progamming languages for Training***\n",
        "\n"
      ]
    },
    {
      "cell_type": "code",
      "metadata": {
        "colab": {
          "base_uri": "https://localhost:8080/"
        },
        "id": "3WQ7AjgwbkvZ",
        "outputId": "15e8af65-d42f-4e93-906b-96cc6d654f97"
      },
      "source": [
        "with open('/content/Programming-Language-Detector/languages.json') as f:\n",
        "  language_info = json.load(f)\n",
        "\n",
        "language_info"
      ],
      "execution_count": null,
      "outputs": [
        {
          "output_type": "execute_result",
          "data": {
            "text/plain": [
              "{'Batchfile': ['bat', 'cmd', 'btm'],\n",
              " 'C': ['c'],\n",
              " 'C#': ['cs'],\n",
              " 'C++': ['cpp', 'cc'],\n",
              " 'CSS': ['css'],\n",
              " 'CoffeeScript': ['coffee', 'litcoffee'],\n",
              " 'Erlang': ['erl', 'hrl'],\n",
              " 'Go': ['go'],\n",
              " 'HTML': ['html'],\n",
              " 'Haskell': ['hs', 'lhs'],\n",
              " 'Java': ['java'],\n",
              " 'JavaScript': ['js', 'es6'],\n",
              " 'Jupyter Notebook': ['ipynb'],\n",
              " 'Lua': ['lua'],\n",
              " 'Markdown': ['md'],\n",
              " 'Matlab': ['matlab', 'm'],\n",
              " 'Objective-C': ['mm', 'm'],\n",
              " 'PHP': ['php'],\n",
              " 'Perl': ['pl', 'pm'],\n",
              " 'PowerShell': ['ps1'],\n",
              " 'Python': ['py'],\n",
              " 'R': ['r', 'rdata', 'rds', 'rda'],\n",
              " 'Ruby': ['rb'],\n",
              " 'Rust': ['rs'],\n",
              " 'SQL': ['sql'],\n",
              " 'Scala': ['scala'],\n",
              " 'Shell': ['sh'],\n",
              " 'Swift': ['swift'],\n",
              " 'TeX': ['tex'],\n",
              " 'TypeScript': ['ts', 'tsx']}"
            ]
          },
          "metadata": {
            "tags": []
          },
          "execution_count": 13
        }
      ]
    },
    {
      "cell_type": "markdown",
      "metadata": {
        "id": "FUqRkBCIB2wi"
      },
      "source": [
        "###***Mapping***\n"
      ]
    },
    {
      "cell_type": "code",
      "metadata": {
        "id": "yEgJFM9oVW_U"
      },
      "source": [
        "language_map = { name: exts[0] for name, exts in language_info.items() }\n",
        "\n",
        "extension_map = { ext: name for name, ext in language_map.items() }"
      ],
      "execution_count": null,
      "outputs": []
    },
    {
      "cell_type": "markdown",
      "metadata": {
        "id": "v3gj48GXhTiS"
      },
      "source": [
        "###***Load Model***"
      ]
    },
    {
      "cell_type": "code",
      "metadata": {
        "id": "0q35mjmjN0RK"
      },
      "source": [
        "saved_model =tf.saved_model.load(\"/content/Programming-Language-Detector/model\")"
      ],
      "execution_count": null,
      "outputs": []
    },
    {
      "cell_type": "markdown",
      "metadata": {
        "id": "HIZsYAnghpb8"
      },
      "source": [
        "###***Prediction***\n"
      ]
    },
    {
      "cell_type": "code",
      "metadata": {
        "id": "-S4Ci2dsN0RK"
      },
      "source": [
        "def language_used(text):\n",
        "  if not text.strip():\n",
        "    return 'Please input code snippet.'\n",
        "\n",
        "  content_tensor = tf.constant([text])\n",
        "  predicted = saved_model.signatures['serving_default'](content_tensor)\n",
        "\n",
        "  numpy_floats = predicted['scores'][0].numpy()\n",
        "  extensions = predicted['classes'][0].numpy()\n",
        "\n",
        "  probability_values = (float(value) for value in numpy_floats)  \n",
        "\n",
        "  languages = ( extension_map[ext.decode()] for ext in extensions)\n",
        "  unsorted_scores = zip(languages, probability_values)\n",
        "  language_probabilities = sorted(unsorted_scores, key=itemgetter(1), reverse=True)\n",
        "  probabilities = [value for _, value in language_probabilities]\n",
        "\n",
        "  if not _is_reliable(probabilities):\n",
        "    print('No any programming language detected')\n",
        "    return 'More Training to be done on large dataset.'\n",
        "\n",
        "  language_name, _ = language_probabilities[0]\n",
        "  return language_name"
      ],
      "execution_count": null,
      "outputs": []
    },
    {
      "cell_type": "code",
      "metadata": {
        "id": "O_XdZKsKgZ63"
      },
      "source": [
        "def _is_reliable(probabilities) -> bool:\n",
        "        \"\"\"Arbitrary rule to determine if the prediction is reliable:\n",
        "        The predicted language probability must be higher than\n",
        "        2 times standard deviations from the mean.\n",
        "        \"\"\"\n",
        "        threshold = mean(probabilities) + 2*stdev(probabilities)\n",
        "        predicted_language_probability = max(probabilities)\n",
        "        return predicted_language_probability > threshold"
      ],
      "execution_count": null,
      "outputs": []
    },
    {
      "cell_type": "markdown",
      "metadata": {
        "id": "KJt9eY7MgxU3"
      },
      "source": [
        "##***Results***\n",
        "\n",
        "\n",
        "\n"
      ]
    },
    {
      "cell_type": "code",
      "metadata": {
        "id": "-A3Ki2DDgwKh",
        "colab": {
          "base_uri": "https://localhost:8080/",
          "height": 35
        },
        "outputId": "7354a354-f743-4f9e-87e5-a1cf8f835d36"
      },
      "source": [
        "text1 = \"\"\" \n",
        "package main\n",
        "import \"fmt\"\n",
        "\n",
        "func main() {\n",
        "    fmt.Println(\"My mascot is a gopher and Google loves me. Who am I?\")\n",
        "}\n",
        "\"\"\"\n",
        "\n",
        "language_used(text1)"
      ],
      "execution_count": null,
      "outputs": [
        {
          "output_type": "execute_result",
          "data": {
            "application/vnd.google.colaboratory.intrinsic+json": {
              "type": "string"
            },
            "text/plain": [
              "'Go'"
            ]
          },
          "metadata": {
            "tags": []
          },
          "execution_count": 18
        }
      ]
    },
    {
      "cell_type": "code",
      "metadata": {
        "id": "CGYiBcSte5my",
        "colab": {
          "base_uri": "https://localhost:8080/",
          "height": 35
        },
        "outputId": "114a2215-0458-4ab2-ea30-5a14a272d165"
      },
      "source": [
        "text2 = \"\"\"\n",
        "\n",
        "# Store input numbers\n",
        "\n",
        "num1 = input('Enter first number: ')\n",
        "\n",
        "num2 = input('Enter second number: ')\n",
        "\n",
        " \n",
        "\n",
        "# Add two numbers\n",
        "\n",
        "sum = float(num1) + float(num2)\n",
        "\n",
        " \n",
        "\n",
        "# Display the sum\n",
        "\n",
        "print('The sum of {0} and {1} is {2}'.format(num1, num2, sum))\n",
        "\"\"\"\n",
        "\n",
        "language_used(text2)"
      ],
      "execution_count": null,
      "outputs": [
        {
          "output_type": "execute_result",
          "data": {
            "application/vnd.google.colaboratory.intrinsic+json": {
              "type": "string"
            },
            "text/plain": [
              "'Python'"
            ]
          },
          "metadata": {
            "tags": []
          },
          "execution_count": 19
        }
      ]
    },
    {
      "cell_type": "code",
      "metadata": {
        "id": "pZ5NjPBbmFHN",
        "colab": {
          "base_uri": "https://localhost:8080/",
          "height": 35
        },
        "outputId": "927359f7-a074-423d-ed79-cb9df061f6ee"
      },
      "source": [
        "text3 = \"\"\"\n",
        "// This ia a sample getter function\n",
        "\n",
        "private int LOC = 0;\n",
        "\n",
        " \n",
        "public int getLOC() {\n",
        "\n",
        "                                return LOC;\n",
        "\n",
        "                }\n",
        "\n",
        "public void setLOC(int lOC) {\n",
        "\n",
        "                                LOC = lOC;\n",
        "\n",
        "                }\n",
        "\n",
        " \"\"\"   \n",
        " \n",
        "language_used(text3)"
      ],
      "execution_count": null,
      "outputs": [
        {
          "output_type": "execute_result",
          "data": {
            "application/vnd.google.colaboratory.intrinsic+json": {
              "type": "string"
            },
            "text/plain": [
              "'Java'"
            ]
          },
          "metadata": {
            "tags": []
          },
          "execution_count": 20
        }
      ]
    },
    {
      "cell_type": "code",
      "metadata": {
        "colab": {
          "base_uri": "https://localhost:8080/",
          "height": 35
        },
        "id": "rPt0Y3aaGVIk",
        "outputId": "33a40c24-f604-40d0-eede-ed864ec36a4e"
      },
      "source": [
        "text4 = \"\"\"\n",
        "\n",
        "/** Turn command line arguments to uppercase */\n",
        "object Main {\n",
        "  def main(args: Array[String]) {\n",
        "    val res = for (a <- args) yield a.toUpperCase\n",
        "    println(\"Arguments: \" + res.toString)\n",
        "  }\n",
        "}\n",
        "\n",
        "\"\"\"\n",
        "\n",
        "language_used(text4)"
      ],
      "execution_count": null,
      "outputs": [
        {
          "output_type": "execute_result",
          "data": {
            "application/vnd.google.colaboratory.intrinsic+json": {
              "type": "string"
            },
            "text/plain": [
              "'Scala'"
            ]
          },
          "metadata": {
            "tags": []
          },
          "execution_count": 21
        }
      ]
    },
    {
      "cell_type": "code",
      "metadata": {
        "colab": {
          "base_uri": "https://localhost:8080/",
          "height": 35
        },
        "id": "A1PmlitmHFka",
        "outputId": "4e470822-8fa9-46bb-d394-38d13d2c3222"
      },
      "source": [
        "text = \"\"\" \n",
        "\n",
        "/bin/which \n",
        "\n",
        "\"\"\"\n",
        "language_used(text)"
      ],
      "execution_count": null,
      "outputs": [
        {
          "output_type": "execute_result",
          "data": {
            "application/vnd.google.colaboratory.intrinsic+json": {
              "type": "string"
            },
            "text/plain": [
              "'Shell'"
            ]
          },
          "metadata": {
            "tags": []
          },
          "execution_count": 22
        }
      ]
    },
    {
      "cell_type": "code",
      "metadata": {
        "colab": {
          "base_uri": "https://localhost:8080/",
          "height": 35
        },
        "id": "x-dRwdL73esW",
        "outputId": "b42bd953-17a6-4155-dbd8-d738c381d616"
      },
      "source": [
        "text5 = \"\"\"\n",
        "interface User {\n",
        "  name: string;\n",
        "  id: number;\n",
        "}\n",
        "\n",
        "class UserAccount {\n",
        "  name: string;\n",
        "  id: number;\n",
        "\n",
        "  constructor(name: string, id: number) {\n",
        "    this.name = name;\n",
        "    this.id = id;\n",
        "  }\n",
        "}\n",
        "\n",
        "const user: User = new UserAccount(\"Murphy\", 1);\n",
        "\"\"\"\n",
        "\n",
        "language_used(text5)"
      ],
      "execution_count": null,
      "outputs": [
        {
          "output_type": "execute_result",
          "data": {
            "application/vnd.google.colaboratory.intrinsic+json": {
              "type": "string"
            },
            "text/plain": [
              "'TypeScript'"
            ]
          },
          "metadata": {
            "tags": []
          },
          "execution_count": 23
        }
      ]
    },
    {
      "cell_type": "code",
      "metadata": {
        "id": "2xqT1XBUKdyV"
      },
      "source": [
        ""
      ],
      "execution_count": null,
      "outputs": []
    }
  ]
}